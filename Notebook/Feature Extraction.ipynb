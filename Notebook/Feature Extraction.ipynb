{
 "cells": [
  {
   "cell_type": "code",
   "execution_count": 1,
   "metadata": {},
   "outputs": [],
   "source": [
    "import gc\n",
    "import os\n",
    "import re\n",
    "import nltk\n",
    "import spacy\n",
    "import torch\n",
    "import pickle\n",
    "import joblib\n",
    "\n",
    "import numpy as np\n",
    "import pandas as pd\n",
    "\n",
    "from tqdm.auto import tqdm\n",
    "from datasets import Dataset\n",
    "from collections import Counter\n",
    "from nltk.data import load as nltk_load\n",
    "from nltk.tokenize import PunktSentenceTokenizer\n",
    "from typing import Callable, List, Tuple\n",
    "\n",
    "from xgboost import XGBClassifier, XGBRegressor\n",
    "from lightgbm import LGBMClassifier, LGBMRegressor\n",
    "# from catboost import CatBoostClassifier, CatBoostRegressor\n",
    "\n",
    "from sklearn.linear_model import LogisticRegression\n",
    "from sklearn.ensemble import RandomForestClassifier, VotingClassifier\n",
    "from sklearn.model_selection import StratifiedKFold, cross_val_predict\n",
    "from transformers import AutoModelForSeq2SeqLM, AutoTokenizer, AutoModelWithLMHead, AutoModelForCausalLM"
   ]
  },
  {
   "cell_type": "code",
   "execution_count": 63,
   "metadata": {},
   "outputs": [],
   "source": [
    "CROSS_ENTROPY = torch.nn.CrossEntropyLoss(reduction='none')\n",
    "NLTK          = PunktSentenceTokenizer()\n",
    "DEVICE        = torch.device('cuda' if torch.cuda.is_available() else 'cpu')\n",
    "# DEVICE        = torch.device('cpu')"
   ]
  },
  {
   "cell_type": "code",
   "execution_count": 64,
   "metadata": {},
   "outputs": [],
   "source": [
    "sent_cut_en = NLTK.tokenize"
   ]
  },
  {
   "cell_type": "code",
   "execution_count": 65,
   "metadata": {},
   "outputs": [],
   "source": [
    "def gpt2_features(text, tokenizer, model, sent_cut):\n",
    "    # Tokenize\n",
    "    input_max_length = tokenizer.model_max_length - 2\n",
    "    token_ids, offsets = list(), list()\n",
    "    sentences = sent_cut(text)\n",
    "    \n",
    "    for s in sentences:\n",
    "        tokens = tokenizer.tokenize(s)\n",
    "        ids = tokenizer.convert_tokens_to_ids(tokens)\n",
    "        difference = len(token_ids) + len(ids) - input_max_length\n",
    "        if difference > 0:\n",
    "            ids = ids[:-difference]\n",
    "        offsets.append((len(token_ids), len(token_ids) + len(ids)))\n",
    "        token_ids.extend(ids)\n",
    "        if difference >= 0:\n",
    "            break\n",
    "\n",
    "    input_ids = torch.tensor([tokenizer.bos_token_id] + token_ids).to(DEVICE)\n",
    "    logits = model(input_ids).logits\n",
    "    \n",
    "    # Shift so that n-1 predict n\n",
    "    shift_logits = logits[:-1].contiguous()\n",
    "    shift_target = input_ids[1:].contiguous()\n",
    "    loss = CROSS_ENTROPY(shift_logits, shift_target)\n",
    "\n",
    "    all_probs = torch.softmax(shift_logits, dim=-1)\n",
    "    sorted_ids = torch.argsort(all_probs, dim=-1, descending=True)  # stable=True\n",
    "    expanded_tokens = shift_target.unsqueeze(-1).expand_as(sorted_ids)\n",
    "    indices = torch.where(sorted_ids == expanded_tokens)\n",
    "    rank = indices[-1]\n",
    "    counter = [\n",
    "        rank < 10,\n",
    "        (rank >= 10) & (rank < 100),\n",
    "        (rank >= 100) & (rank < 1000),\n",
    "        rank >= 1000\n",
    "    ]\n",
    "    counter = [c.long().sum(-1).item() for c in counter]\n",
    "\n",
    "\n",
    "    # compute different-level ppl\n",
    "    text_ppl = loss.mean().exp().item()\n",
    "    sent_ppl = list()\n",
    "    for start, end in offsets:\n",
    "        nll = loss[start: end].sum() / (end - start)\n",
    "        sent_ppl.append(nll.exp().item())\n",
    "        \n",
    "    max_sent_ppl = max(sent_ppl)\n",
    "    sent_ppl_avg = sum(sent_ppl) / len(sent_ppl)\n",
    "    if len(sent_ppl) > 1:\n",
    "        sent_ppl_std = torch.std(torch.tensor(sent_ppl)).item()\n",
    "    else:\n",
    "        sent_ppl_std = 0\n",
    "\n",
    "    mask = torch.tensor([1] * loss.size(0)).to(DEVICE)\n",
    "    step_ppl = loss.cumsum(dim=-1).div(mask.cumsum(dim=-1)).exp()\n",
    "    max_step_ppl = step_ppl.max(dim=-1)[0].item()\n",
    "    step_ppl_avg = step_ppl.sum(dim=-1).div(loss.size(0)).item()\n",
    "    if step_ppl.size(0) > 1:\n",
    "        step_ppl_std = step_ppl.std().item()\n",
    "    else:\n",
    "        step_ppl_std = 0\n",
    "    ppls = [\n",
    "        text_ppl, max_sent_ppl, sent_ppl_avg, sent_ppl_std,\n",
    "        max_step_ppl, step_ppl_avg, step_ppl_std\n",
    "    ]\n",
    "    return counter, ppls  # type: ignore"
   ]
  },
  {
   "cell_type": "code",
   "execution_count": 66,
   "metadata": {},
   "outputs": [],
   "source": [
    "cols = [\n",
    "    'text_ppl', 'max_sent_ppl', 'sent_ppl_avg', 'sent_ppl_std', 'max_step_ppl', \n",
    "    'step_ppl_avg', 'step_ppl_std', 'rank_0', 'rank_10', 'rank_100', 'rank_1000'\n",
    "]\n",
    "\n",
    "final_cols = [\n",
    "    'text',  \n",
    "    'source',\n",
    "    'prompt_id',\n",
    "    'text_length' ,\n",
    "    'word_count',\n",
    "    'label', 'text_ppl', 'max_sent_ppl', 'sent_ppl_avg', 'sent_ppl_std', 'max_step_ppl', \n",
    "    'step_ppl_avg', 'step_ppl_std', 'rank_0', 'rank_10', 'rank_100', 'rank_1000'\n",
    "]"
   ]
  },
  {
   "cell_type": "code",
   "execution_count": 74,
   "metadata": {},
   "outputs": [
    {
     "data": {
      "application/vnd.jupyter.widget-view+json": {
       "model_id": "03a57d2424104b949c48aec9ce0cc5bf",
       "version_major": 2,
       "version_minor": 0
      },
      "text/plain": [
       "  0%|          | 0/1 [00:00<?, ?it/s]"
      ]
     },
     "metadata": {},
     "output_type": "display_data"
    },
    {
     "data": {
      "application/vnd.jupyter.widget-view+json": {
       "model_id": "d84e3ad0b03b4f3f8a2687e4ec53a1eb",
       "version_major": 2,
       "version_minor": 0
      },
      "text/plain": [
       "  0%|          | 0/494 [00:00<?, ?it/s]"
      ]
     },
     "metadata": {},
     "output_type": "display_data"
    }
   ],
   "source": [
    "for i in range(3,4):\n",
    "    curr_num = i\n",
    "    train          = pd.read_csv(f'Data/Chunked_Data_1/chunk_{curr_num}.csv')\n",
    "    train['label'] = np.where(train['source'] == 'Human', 0, 1)\n",
    "    train          = train.drop_duplicates(subset=['text']).reset_index(drop=True).dropna(subset=['text'])\n",
    "    train['label'].value_counts()\n",
    "    models_train_feats = []\n",
    "\n",
    "    for model in tqdm(['gpt2-large']):\n",
    "        TOKENIZER_EN = AutoTokenizer.from_pretrained(f'{model}/tokenizer')\n",
    "        MODEL_EN     = AutoModelForCausalLM.from_pretrained(f'{model}/model').to(DEVICE)\n",
    "        \n",
    "        train_ppl_feats  = []\n",
    "        train_gltr_feats = []\n",
    "        with torch.no_grad():\n",
    "            for text in tqdm(train.text.values):\n",
    "                gltr, ppl = gpt2_features(text, TOKENIZER_EN, MODEL_EN, sent_cut_en)\n",
    "                train_ppl_feats.append(ppl)\n",
    "                train_gltr_feats.append(gltr)\n",
    "                \n",
    "        X_train = pd.DataFrame(\n",
    "            np.concatenate((train_ppl_feats, train_gltr_feats), axis=1), \n",
    "            columns=[f'{model}-{col}' for col in cols]\n",
    "        )\n",
    "        models_train_feats.append(X_train)\n",
    "        \n",
    "        del X_train\n",
    "        del TOKENIZER_EN; del MODEL_EN\n",
    "        del train_ppl_feats; del train_gltr_feats\n",
    "        \n",
    "        gc.collect()\n",
    "        torch.cuda.empty_cache()\n",
    "        \n",
    "    train_feats = pd.concat(models_train_feats, axis=1)\n",
    "    train_feats = pd.concat([train,train_feats], axis = 1)\n",
    "    train_feats.to_csv(f\"Data/Feature_Extraction/chunk_{curr_num}.csv\",index=False)"
   ]
  },
  {
   "cell_type": "code",
   "execution_count": 72,
   "metadata": {},
   "outputs": [
    {
     "data": {
      "image/png": "[encoded data removed]",
      "text/plain": [
       "<Figure size 800x600 with 1 Axes>"
      ]
     },
     "metadata": {},
     "output_type": "display_data"
    }
   ],
   "source": [
    "import seaborn as sns\n",
    "import matplotlib.pyplot as plt\n",
    "\n",
    "# Sample DataFrame with 'class' and 'value_column'\n",
    "# Assume 'class' is the target variable and 'value_column' is the column to plot\n",
    "# Modify this based on your DataFrame\n",
    "# train_feats['label'] = np.where(train['source'] == 'Human', 0, 1)\n",
    "# test is assumed to have 'label' for the class and 'value_column' for the feature\n",
    "\n",
    "# Example: test dataframe with 'label' for class and 'value_column' for the feature\n",
    "# test = pd.DataFrame({\n",
    "#    'label': [0, 1, 0, 1, 0, 1],\n",
    "#    'value_column': [0.2, 0.8, 0.5, 0.7, 0.3, 0.6]\n",
    "# })\n",
    "\n",
    "# Create the density plot\n",
    "plt.figure(figsize=(8, 6))\n",
    "sns.kdeplot(data=train_feats[train_feats['label'] == 0], x='gpt2-large-text_ppl', fill=True, label='Class 0', color='blue')\n",
    "sns.kdeplot(data=train_feats[train_feats['label'] == 1], x='gpt2-large-text_ppl', fill=True, label='Class 1', color='red')\n",
    "\n",
    "# Add labels and title\n",
    "plt.title('Density Plot of Value Column by Class')\n",
    "plt.xlabel('Value Column')\n",
    "plt.ylabel('Density')\n",
    "plt.legend()\n",
    "\n",
    "# Show the plot\n",
    "plt.show()\n"
   ]
  },
  {
   "cell_type": "code",
   "execution_count": null,
   "metadata": {},
   "outputs": [],
   "source": []
  }
 ],
 "metadata": {
  "kernelspec": {
   "display_name": "Python 3",
   "language": "python",
   "name": "python3"
  },
  "language_info": {
   "codemirror_mode": {
    "name": "ipython",
    "version": 3
   },
   "file_extension": ".py",
   "mimetype": "text/x-python",
   "name": "python",
   "nbconvert_exporter": "python",
   "pygments_lexer": "ipython3",
   "version": "3.11.0"
  },
  "orig_nbformat": 4
 },
 "nbformat": 4,
 "nbformat_minor": 2
}
